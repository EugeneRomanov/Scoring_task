{
 "cells": [
  {
   "cell_type": "markdown",
   "metadata": {},
   "source": [
    "## Описание "
   ]
  },
  {
   "cell_type": "markdown",
   "metadata": {},
   "source": [
    "Для выполнения этого задания вам понадобятся данные о кредитных историях клиентов одного из банков. Поля в предоставляемых данных имеют следующий смысл:\n",
    "\n",
    "LIMIT_BAL: размер кредитного лимита (в том числе и на семью клиента)\n",
    "\n",
    "SEX: пол клиента (1 = мужской, 2 = женский )\n",
    "\n",
    "EDUCATION: образование (0 = доктор, 1 = магистр; 2 = бакалавр; 3 = выпускник школы; 4 = начальное образование; 5= прочее; 6 = нет данных ).\n",
    "\n",
    "MARRIAGE: (0 = отказываюсь отвечать; 1 = замужем/женат; 2 = холост; 3 = нет данных).\n",
    "\n",
    "AGE: возраст в годах\n",
    "\n",
    "PAY_0 - PAY_6 : История прошлых платежей по кредиту. PAY_6 - платеж в апреле, ... Pay_0 - платеж в сентябре. Платеж = (0 = исправный платеж, 1=задержка в один месяц, 2=задержка в 2 месяца ...)\n",
    "\n",
    "\n",
    "BILL_AMT1 - BILL_AMT6: задолженность, BILL_AMT6 - на апрель, BILL_AMT1 - на сентябрь\n",
    "\n",
    "\n",
    "PAY_AMT1 - PAY_AMT6: сумма уплаченная в PAY_AMT6 - апреле, ..., PAY_AMT1 - сентябре\n",
    "\n",
    "\n",
    "default - индикатор невозврата денежных средств"
   ]
  },
  {
   "cell_type": "markdown",
   "metadata": {},
   "source": [
    "### Дополнительно"
   ]
  },
  {
   "cell_type": "markdown",
   "metadata": {},
   "source": [
    "Выполнение каждого пункта задания должно начинаться с графика с данными, которые вы собираетесь анализировать. Еще лучше, если вы разложите графики анализируемого фактора по переменной (default), на которую хотите изучить влияние этого фактора, и проинтерпретируете отличия в полученных распределениях. \n",
    "\n",
    "При использовании статистических критериев необходимо убедиться в том, что условия их применимости выполняются. Например, если вы видите, что данные бинарные, то не нужно применять критерий Стьюдента. При каждом использовании любого критерия необходимо указать, какая проверяется гипотеза, против какой альтернативы, чему равен достигаемый уровень значимости, принимается или отвергается нулевая гипотеза на уровне значимости 0.05. \n",
    "\n",
    "Если задача позволяет, нужно оценить размер эффекта и предположить, имеет ли этот результат практическую значимость. Выполненное задание необходимо представить в ipython-ноутбука"
   ]
  },
  {
   "cell_type": "markdown",
   "metadata": {},
   "source": [
    "### Задания"
   ]
  },
  {
   "cell_type": "markdown",
   "metadata": {},
   "source": [
    "\n",
    "\n",
    "1. Размер кредитного лимита (LIMIT_BAL). В двух группах, тех людей, кто вернул кредит (default = 0) и тех, кто его не вернул (default = 1) проверьте гипотезы: a) о равенстве медианных значений кредитного лимита с помощью подходящей интервальной оценки b) о равенстве распределений с помощью одного из подходящих непараметрических критериев проверки равенства средних. Значимы ли полученные результаты с практической точки зрения ?\n",
    "\n",
    "\n",
    "2. Пол (SEX): Проверьте гипотезу о том, что гендерный состав группы людей вернувших и не вернувших кредит отличается. Хорошо, если вы предоставите несколько различных решений этой задачи (с помощью доверительного интервала и подходящего статистического критерия)\n",
    "\n",
    "\n",
    "3. Образование (EDUCATION): Проверьте гипотезу о том, что образование не влияет на то, вернет ли человек долг. Предложите способ наглядного представления разницы в ожидаемых и наблюдаемых значениях количества человек вернувших и не вернувших долг. Например, составьте таблицу сопряженности \"образование\" на \"возврат долга\", где значением ячейки была бы разность между наблюдаемым и ожидаемым количеством человек. Как бы вы предложили модифицировать таблицу так, чтобы привести значения ячеек к одному масштабу не потеряв в интерпретируемости ? Наличие какого образования является наилучшим индикатором того, что человек отдаст долг ? наоборт, не отдаст долг ?\n",
    "\n",
    "\n",
    "4. Семейное положение (MARRIAGE): Проверьте, как связан семейный статус с индикатором дефолта: нужно предложить меру, по которой можно измерить возможную связь этих переменных и посчитать ее значение.\n",
    "\n",
    "\n",
    "5. Возраст (AGE): Относительно двух групп людей вернувших и не вернувших кредит проверьте следующие гипотезы: a) о равенстве медианных значений возрастов людей b) о равенстве распределений с помощью одного из подходящих непараметрических критериев проверки равенства средних. Значимы ли полученные результаты с практической точки зрения ?"
   ]
  },
  {
   "cell_type": "markdown",
   "metadata": {},
   "source": [
    "## 1. Загрузка библиотек"
   ]
  },
  {
   "cell_type": "code",
   "execution_count": 1,
   "metadata": {},
   "outputs": [],
   "source": [
    "import warnings\n",
    "warnings.filterwarnings('ignore')"
   ]
  },
  {
   "cell_type": "code",
   "execution_count": 2,
   "metadata": {},
   "outputs": [],
   "source": [
    "import statsmodels\n",
    "import scipy as sc\n",
    "import numpy as np\n",
    "import pandas as pd\n",
    "import statsmodels.formula.api as smf\n",
    "import statsmodels.stats.api as sms\n",
    "from statsmodels.graphics.regressionplots import plot_leverage_resid2\n",
    "import matplotlib.pyplot as plt\n",
    "import numpy as np\n",
    "import pandas as pd\n",
    "import itertools\n",
    "\n",
    "from scipy import stats\n",
    "from statsmodels.stats.descriptivestats import sign_test\n",
    "from statsmodels.stats.weightstats import zconfint\n",
    "from statsmodels.stats.weightstats import *\n",
    "\n",
    "import scipy\n",
    "from statsmodels.stats.weightstats import *\n",
    "from statsmodels.stats.proportion import proportion_confint"
   ]
  },
  {
   "cell_type": "code",
   "execution_count": 3,
   "metadata": {},
   "outputs": [
    {
     "name": "stdout",
     "output_type": "stream",
     "text": [
      "Populating the interactive namespace from numpy and matplotlib\n"
     ]
    }
   ],
   "source": [
    "%pylab inline"
   ]
  },
  {
   "cell_type": "markdown",
   "metadata": {},
   "source": [
    "## 2. Загрузка данных"
   ]
  },
  {
   "cell_type": "code",
   "execution_count": 4,
   "metadata": {},
   "outputs": [
    {
     "data": {
      "text/html": [
       "<div>\n",
       "<style scoped>\n",
       "    .dataframe tbody tr th:only-of-type {\n",
       "        vertical-align: middle;\n",
       "    }\n",
       "\n",
       "    .dataframe tbody tr th {\n",
       "        vertical-align: top;\n",
       "    }\n",
       "\n",
       "    .dataframe thead th {\n",
       "        text-align: right;\n",
       "    }\n",
       "</style>\n",
       "<table border=\"1\" class=\"dataframe\">\n",
       "  <thead>\n",
       "    <tr style=\"text-align: right;\">\n",
       "      <th></th>\n",
       "      <th>ID</th>\n",
       "      <th>LIMIT_BAL</th>\n",
       "      <th>SEX</th>\n",
       "      <th>EDUCATION</th>\n",
       "      <th>MARRIAGE</th>\n",
       "      <th>AGE</th>\n",
       "      <th>PAY_0</th>\n",
       "      <th>PAY_2</th>\n",
       "      <th>PAY_3</th>\n",
       "      <th>PAY_4</th>\n",
       "      <th>...</th>\n",
       "      <th>BILL_AMT4</th>\n",
       "      <th>BILL_AMT5</th>\n",
       "      <th>BILL_AMT6</th>\n",
       "      <th>PAY_AMT1</th>\n",
       "      <th>PAY_AMT2</th>\n",
       "      <th>PAY_AMT3</th>\n",
       "      <th>PAY_AMT4</th>\n",
       "      <th>PAY_AMT5</th>\n",
       "      <th>PAY_AMT6</th>\n",
       "      <th>default</th>\n",
       "    </tr>\n",
       "  </thead>\n",
       "  <tbody>\n",
       "    <tr>\n",
       "      <td>0</td>\n",
       "      <td>1</td>\n",
       "      <td>20000</td>\n",
       "      <td>2</td>\n",
       "      <td>2</td>\n",
       "      <td>1</td>\n",
       "      <td>24</td>\n",
       "      <td>2</td>\n",
       "      <td>2</td>\n",
       "      <td>0</td>\n",
       "      <td>0</td>\n",
       "      <td>...</td>\n",
       "      <td>0</td>\n",
       "      <td>0</td>\n",
       "      <td>0</td>\n",
       "      <td>0</td>\n",
       "      <td>689</td>\n",
       "      <td>0</td>\n",
       "      <td>0</td>\n",
       "      <td>0</td>\n",
       "      <td>0</td>\n",
       "      <td>1</td>\n",
       "    </tr>\n",
       "    <tr>\n",
       "      <td>1</td>\n",
       "      <td>2</td>\n",
       "      <td>120000</td>\n",
       "      <td>2</td>\n",
       "      <td>2</td>\n",
       "      <td>2</td>\n",
       "      <td>26</td>\n",
       "      <td>0</td>\n",
       "      <td>2</td>\n",
       "      <td>0</td>\n",
       "      <td>0</td>\n",
       "      <td>...</td>\n",
       "      <td>3272</td>\n",
       "      <td>3455</td>\n",
       "      <td>3261</td>\n",
       "      <td>0</td>\n",
       "      <td>1000</td>\n",
       "      <td>1000</td>\n",
       "      <td>1000</td>\n",
       "      <td>0</td>\n",
       "      <td>2000</td>\n",
       "      <td>1</td>\n",
       "    </tr>\n",
       "    <tr>\n",
       "      <td>2</td>\n",
       "      <td>3</td>\n",
       "      <td>90000</td>\n",
       "      <td>2</td>\n",
       "      <td>2</td>\n",
       "      <td>2</td>\n",
       "      <td>34</td>\n",
       "      <td>0</td>\n",
       "      <td>0</td>\n",
       "      <td>0</td>\n",
       "      <td>0</td>\n",
       "      <td>...</td>\n",
       "      <td>14331</td>\n",
       "      <td>14948</td>\n",
       "      <td>15549</td>\n",
       "      <td>1518</td>\n",
       "      <td>1500</td>\n",
       "      <td>1000</td>\n",
       "      <td>1000</td>\n",
       "      <td>1000</td>\n",
       "      <td>5000</td>\n",
       "      <td>0</td>\n",
       "    </tr>\n",
       "    <tr>\n",
       "      <td>3</td>\n",
       "      <td>4</td>\n",
       "      <td>50000</td>\n",
       "      <td>2</td>\n",
       "      <td>2</td>\n",
       "      <td>1</td>\n",
       "      <td>37</td>\n",
       "      <td>0</td>\n",
       "      <td>0</td>\n",
       "      <td>0</td>\n",
       "      <td>0</td>\n",
       "      <td>...</td>\n",
       "      <td>28314</td>\n",
       "      <td>28959</td>\n",
       "      <td>29547</td>\n",
       "      <td>2000</td>\n",
       "      <td>2019</td>\n",
       "      <td>1200</td>\n",
       "      <td>1100</td>\n",
       "      <td>1069</td>\n",
       "      <td>1000</td>\n",
       "      <td>0</td>\n",
       "    </tr>\n",
       "    <tr>\n",
       "      <td>4</td>\n",
       "      <td>5</td>\n",
       "      <td>50000</td>\n",
       "      <td>1</td>\n",
       "      <td>2</td>\n",
       "      <td>1</td>\n",
       "      <td>57</td>\n",
       "      <td>0</td>\n",
       "      <td>0</td>\n",
       "      <td>0</td>\n",
       "      <td>0</td>\n",
       "      <td>...</td>\n",
       "      <td>20940</td>\n",
       "      <td>19146</td>\n",
       "      <td>19131</td>\n",
       "      <td>2000</td>\n",
       "      <td>36681</td>\n",
       "      <td>10000</td>\n",
       "      <td>9000</td>\n",
       "      <td>689</td>\n",
       "      <td>679</td>\n",
       "      <td>0</td>\n",
       "    </tr>\n",
       "    <tr>\n",
       "      <td>...</td>\n",
       "      <td>...</td>\n",
       "      <td>...</td>\n",
       "      <td>...</td>\n",
       "      <td>...</td>\n",
       "      <td>...</td>\n",
       "      <td>...</td>\n",
       "      <td>...</td>\n",
       "      <td>...</td>\n",
       "      <td>...</td>\n",
       "      <td>...</td>\n",
       "      <td>...</td>\n",
       "      <td>...</td>\n",
       "      <td>...</td>\n",
       "      <td>...</td>\n",
       "      <td>...</td>\n",
       "      <td>...</td>\n",
       "      <td>...</td>\n",
       "      <td>...</td>\n",
       "      <td>...</td>\n",
       "      <td>...</td>\n",
       "      <td>...</td>\n",
       "    </tr>\n",
       "    <tr>\n",
       "      <td>29995</td>\n",
       "      <td>29996</td>\n",
       "      <td>220000</td>\n",
       "      <td>1</td>\n",
       "      <td>3</td>\n",
       "      <td>1</td>\n",
       "      <td>39</td>\n",
       "      <td>0</td>\n",
       "      <td>0</td>\n",
       "      <td>0</td>\n",
       "      <td>0</td>\n",
       "      <td>...</td>\n",
       "      <td>88004</td>\n",
       "      <td>31237</td>\n",
       "      <td>15980</td>\n",
       "      <td>8500</td>\n",
       "      <td>20000</td>\n",
       "      <td>5003</td>\n",
       "      <td>3047</td>\n",
       "      <td>5000</td>\n",
       "      <td>1000</td>\n",
       "      <td>0</td>\n",
       "    </tr>\n",
       "    <tr>\n",
       "      <td>29996</td>\n",
       "      <td>29997</td>\n",
       "      <td>150000</td>\n",
       "      <td>1</td>\n",
       "      <td>3</td>\n",
       "      <td>2</td>\n",
       "      <td>43</td>\n",
       "      <td>0</td>\n",
       "      <td>0</td>\n",
       "      <td>0</td>\n",
       "      <td>0</td>\n",
       "      <td>...</td>\n",
       "      <td>8979</td>\n",
       "      <td>5190</td>\n",
       "      <td>0</td>\n",
       "      <td>1837</td>\n",
       "      <td>3526</td>\n",
       "      <td>8998</td>\n",
       "      <td>129</td>\n",
       "      <td>0</td>\n",
       "      <td>0</td>\n",
       "      <td>0</td>\n",
       "    </tr>\n",
       "    <tr>\n",
       "      <td>29997</td>\n",
       "      <td>29998</td>\n",
       "      <td>30000</td>\n",
       "      <td>1</td>\n",
       "      <td>2</td>\n",
       "      <td>2</td>\n",
       "      <td>37</td>\n",
       "      <td>4</td>\n",
       "      <td>3</td>\n",
       "      <td>2</td>\n",
       "      <td>0</td>\n",
       "      <td>...</td>\n",
       "      <td>20878</td>\n",
       "      <td>20582</td>\n",
       "      <td>19357</td>\n",
       "      <td>0</td>\n",
       "      <td>0</td>\n",
       "      <td>22000</td>\n",
       "      <td>4200</td>\n",
       "      <td>2000</td>\n",
       "      <td>3100</td>\n",
       "      <td>1</td>\n",
       "    </tr>\n",
       "    <tr>\n",
       "      <td>29998</td>\n",
       "      <td>29999</td>\n",
       "      <td>80000</td>\n",
       "      <td>1</td>\n",
       "      <td>3</td>\n",
       "      <td>1</td>\n",
       "      <td>41</td>\n",
       "      <td>1</td>\n",
       "      <td>0</td>\n",
       "      <td>0</td>\n",
       "      <td>0</td>\n",
       "      <td>...</td>\n",
       "      <td>52774</td>\n",
       "      <td>11855</td>\n",
       "      <td>48944</td>\n",
       "      <td>85900</td>\n",
       "      <td>3409</td>\n",
       "      <td>1178</td>\n",
       "      <td>1926</td>\n",
       "      <td>52964</td>\n",
       "      <td>1804</td>\n",
       "      <td>1</td>\n",
       "    </tr>\n",
       "    <tr>\n",
       "      <td>29999</td>\n",
       "      <td>30000</td>\n",
       "      <td>50000</td>\n",
       "      <td>1</td>\n",
       "      <td>2</td>\n",
       "      <td>1</td>\n",
       "      <td>46</td>\n",
       "      <td>0</td>\n",
       "      <td>0</td>\n",
       "      <td>0</td>\n",
       "      <td>0</td>\n",
       "      <td>...</td>\n",
       "      <td>36535</td>\n",
       "      <td>32428</td>\n",
       "      <td>15313</td>\n",
       "      <td>2078</td>\n",
       "      <td>1800</td>\n",
       "      <td>1430</td>\n",
       "      <td>1000</td>\n",
       "      <td>1000</td>\n",
       "      <td>1000</td>\n",
       "      <td>1</td>\n",
       "    </tr>\n",
       "  </tbody>\n",
       "</table>\n",
       "<p>30000 rows × 25 columns</p>\n",
       "</div>"
      ],
      "text/plain": [
       "          ID  LIMIT_BAL  SEX  EDUCATION  MARRIAGE  AGE  PAY_0  PAY_2  PAY_3  \\\n",
       "0          1      20000    2          2         1   24      2      2      0   \n",
       "1          2     120000    2          2         2   26      0      2      0   \n",
       "2          3      90000    2          2         2   34      0      0      0   \n",
       "3          4      50000    2          2         1   37      0      0      0   \n",
       "4          5      50000    1          2         1   57      0      0      0   \n",
       "...      ...        ...  ...        ...       ...  ...    ...    ...    ...   \n",
       "29995  29996     220000    1          3         1   39      0      0      0   \n",
       "29996  29997     150000    1          3         2   43      0      0      0   \n",
       "29997  29998      30000    1          2         2   37      4      3      2   \n",
       "29998  29999      80000    1          3         1   41      1      0      0   \n",
       "29999  30000      50000    1          2         1   46      0      0      0   \n",
       "\n",
       "       PAY_4  ...  BILL_AMT4  BILL_AMT5  BILL_AMT6  PAY_AMT1  PAY_AMT2  \\\n",
       "0          0  ...          0          0          0         0       689   \n",
       "1          0  ...       3272       3455       3261         0      1000   \n",
       "2          0  ...      14331      14948      15549      1518      1500   \n",
       "3          0  ...      28314      28959      29547      2000      2019   \n",
       "4          0  ...      20940      19146      19131      2000     36681   \n",
       "...      ...  ...        ...        ...        ...       ...       ...   \n",
       "29995      0  ...      88004      31237      15980      8500     20000   \n",
       "29996      0  ...       8979       5190          0      1837      3526   \n",
       "29997      0  ...      20878      20582      19357         0         0   \n",
       "29998      0  ...      52774      11855      48944     85900      3409   \n",
       "29999      0  ...      36535      32428      15313      2078      1800   \n",
       "\n",
       "       PAY_AMT3  PAY_AMT4  PAY_AMT5  PAY_AMT6  default  \n",
       "0             0         0         0         0        1  \n",
       "1          1000      1000         0      2000        1  \n",
       "2          1000      1000      1000      5000        0  \n",
       "3          1200      1100      1069      1000        0  \n",
       "4         10000      9000       689       679        0  \n",
       "...         ...       ...       ...       ...      ...  \n",
       "29995      5003      3047      5000      1000        0  \n",
       "29996      8998       129         0         0        0  \n",
       "29997     22000      4200      2000      3100        1  \n",
       "29998      1178      1926     52964      1804        1  \n",
       "29999      1430      1000      1000      1000        1  \n",
       "\n",
       "[30000 rows x 25 columns]"
      ]
     },
     "execution_count": 4,
     "metadata": {},
     "output_type": "execute_result"
    }
   ],
   "source": [
    "raw = pd.read_csv(\"credit_card_default_analysis.csv\") \n",
    "raw"
   ]
  },
  {
   "cell_type": "markdown",
   "metadata": {},
   "source": [
    "## 3. Задание 1\n",
    "### Описание\n",
    "\n",
    "Размер кредитного лимита (LIMIT_BAL). В двух группах, тех людей, кто вернул кредит (default = 0) и тех, кто его не вернул (default = 1) проверьте гипотезы:\n",
    "\n",
    "a) о равенстве медианных значений кредитного лимита с помощью подходящей интервальной оценки\n",
    "\n",
    "b) о равенстве распределений с помощью одного из подходящих непараметрических критериев проверки равенства средних. \n",
    "\n",
    "Значимы ли полученные результаты с практической точки зрения ?"
   ]
  },
  {
   "cell_type": "markdown",
   "metadata": {},
   "source": [
    "#### Разобьем данные"
   ]
  },
  {
   "cell_type": "code",
   "execution_count": 5,
   "metadata": {},
   "outputs": [],
   "source": [
    "# в виде pd\n",
    "\n",
    "data_default_back_pd = raw[raw['default']  == 0].LIMIT_BAL # размер кредита, где вернули кредит\n",
    "data_default_notback_pd = raw[raw['default']  == 1].LIMIT_BAL # размер кредита, где не вернули кредит"
   ]
  },
  {
   "cell_type": "code",
   "execution_count": 6,
   "metadata": {},
   "outputs": [
    {
     "data": {
      "image/png": "[encoded data removed]",
      "text/plain": [
       "<Figure size 1440x432 with 2 Axes>"
      ]
     },
     "metadata": {
      "needs_background": "light"
     },
     "output_type": "display_data"
    }
   ],
   "source": [
    "pylab.figure(figsize=(20,6))\n",
    "\n",
    "pylab.subplot(1,2,1)\n",
    "pylab.grid()\n",
    "pylab.hist(data_default_back_pd, color = 'r')\n",
    "pylab.xlabel('Размер кредита, где вернули кредит')\n",
    "\n",
    "pylab.subplot(1,2,2)\n",
    "pylab.grid()\n",
    "pylab.hist(data_default_notback_pd, color = 'b')\n",
    "pylab.xlabel('Размер кредита, где не вернули кредит')\n",
    "\n",
    "pylab.show()"
   ]
  },
  {
   "cell_type": "code",
   "execution_count": 7,
   "metadata": {},
   "outputs": [
    {
     "data": {
      "text/plain": [
       "<function matplotlib.pyplot.show(*args, **kw)>"
      ]
     },
     "execution_count": 7,
     "metadata": {},
     "output_type": "execute_result"
    },
    {
     "data": {
      "image/png": "[encoded data removed]",
      "text/plain": [
       "<Figure size 432x432 with 1 Axes>"
      ]
     },
     "metadata": {
      "needs_background": "light"
     },
     "output_type": "display_data"
    }
   ],
   "source": [
    "pylab.figure(figsize=(6,6))\n",
    "\n",
    "plt.hist(data_default_back_pd)\n",
    "plt.hist(data_default_notback_pd)\n",
    "plt.xlabel('LIMIT_BAL, кредитный лимит')\n",
    "plt.ylabel('Количество людей')\n",
    "plt.show"
   ]
  },
  {
   "cell_type": "markdown",
   "metadata": {},
   "source": [
    "### Пункт А \n",
    "\n",
    "a) Проверяем гипотезу о равенстве медианных значений кредитного лимита с помощью подходящей интервальной оценки"
   ]
  },
  {
   "cell_type": "markdown",
   "metadata": {},
   "source": [
    "$H_0\\colon$ медиана размера кредитного лимита для обеих групп (выдан кредит или нет) одинакова\n",
    "\n",
    "$H_1\\colon$ медиана размера кредитного лимита для обеих групп (выдан кредит или нет) не одинакова"
   ]
  },
  {
   "cell_type": "markdown",
   "metadata": {},
   "source": [
    "Поскольку у нас нет информации о распределении, то можно воспользоваться интервальной оценкой на основе bootstrap:\n",
    "\n",
    "\n",
    "Бутстрэп генерирует N псвевдовыборок обьема n и оценивает выборочное распределение Tn.\n",
    "Извлечение выборок из генеральной совокупности - сэмплирование из неизвестного распределения Fx(x).\n",
    "Лучшая оценка Fx(x), которая у нас есть - Fxn(x). "
   ]
  },
  {
   "cell_type": "code",
   "execution_count": 8,
   "metadata": {},
   "outputs": [],
   "source": [
    "# функция реализация бутстрэпа\n",
    "# n_samples - количество выборок\n",
    "def get_bootstrap_samples(data, n_samples):\n",
    "    indices = np.random.randint(0, len(data), (n_samples, len(data))) # вспомогательная функция для получения псевдоподвыборок\n",
    "    samples = data[indices]\n",
    "    return samples\n",
    "\n",
    "\n",
    "# считаем набор статистик\n",
    "\n",
    "def stat_intervals(stat, alpha):\n",
    "    boundaries = np.percentile(stat, [100 * alpha / 2., 100 * (1 - alpha / 2.)])\n",
    "    return boundaries"
   ]
  },
  {
   "cell_type": "code",
   "execution_count": 9,
   "metadata": {},
   "outputs": [],
   "source": [
    "# разбиваем данные в виде np для бутстрэпа\n",
    "\n",
    "data_default_back=raw[raw.default == 0].LIMIT_BAL.values\n",
    "data_default_notback=raw[raw.default == 1].LIMIT_BAL.values"
   ]
  },
  {
   "cell_type": "code",
   "execution_count": 10,
   "metadata": {},
   "outputs": [
    {
     "name": "stdout",
     "output_type": "stream",
     "text": [
      "95% confidence interval for the ILEC median repair time: [150000. 150000.]\n",
      "95% confidence interval for the CLEC median repair time: [80000. 90000.]\n"
     ]
    }
   ],
   "source": [
    "# считаем для медианы (статистика)\n",
    "\n",
    "np.random.seed(0)\n",
    "\n",
    "back_median_scores = list(map(np.median, get_bootstrap_samples(data_default_back, 1000)))\n",
    "notback_median_scores = list(map(np.median, get_bootstrap_samples(data_default_notback, 1000)))\n",
    "\n",
    "print(\"95% confidence interval for the ILEC median repair time:\",  stat_intervals(back_median_scores, 0.05))\n",
    "print(\"95% confidence interval for the CLEC median repair time:\",  stat_intervals(notback_median_scores, 0.05))"
   ]
  },
  {
   "cell_type": "code",
   "execution_count": 11,
   "metadata": {},
   "outputs": [
    {
     "name": "stdout",
     "output_type": "stream",
     "text": [
      "95% confidence interval for the difference between medians [-70000. -60000.]\n"
     ]
    }
   ],
   "source": [
    "# интервал для разности медиан\n",
    "\n",
    "delta_median_scores = list(map(lambda x: x[1] - x[0], zip(back_median_scores, notback_median_scores)))\n",
    "\n",
    "print(\"95% confidence interval for the difference between medians\",  stat_intervals(delta_median_scores, 0.05))"
   ]
  },
  {
   "cell_type": "markdown",
   "metadata": {},
   "source": [
    "### Вывод:\n",
    "\n",
    "1. Интервальная оценка разности медиан не содержит ноль, следовательно, интервальная оценка медиан не пересекается. \n",
    "2. Гипоте Н0 отвергается. Принимается гипотеза Н1"
   ]
  },
  {
   "cell_type": "markdown",
   "metadata": {},
   "source": [
    "### Пункт Б\n",
    "\n",
    "b) Проверяем гипотезу о равенстве распределений с помощью одного из подходящих непараметрических критериев проверки равенства средних. \n",
    "Значимы ли полученные результаты с практической точки зрения ?"
   ]
  },
  {
   "cell_type": "markdown",
   "metadata": {},
   "source": [
    "$H_0\\colon$ распределения размера кредитного лимита для обеих групп (выдан кредит или нет) одинаковы\n",
    "\n",
    "$H_1\\colon$ распределения размера кредитного лимита для обеих групп (выдан кредит или нет) разные"
   ]
  },
  {
   "cell_type": "markdown",
   "metadata": {},
   "source": [
    "Для двух независимых выборок применяется критерий Манна-Уитни.Условия выполнения критерия:"
   ]
  },
  {
   "cell_type": "markdown",
   "metadata": {},
   "source": [
    "1. В каждой из выборок должно быть не менее 3 значений признака. Допускается, чтобы в одной выборке было два значения, но во второй тогда не менее пяти."
   ]
  },
  {
   "cell_type": "code",
   "execution_count": 12,
   "metadata": {},
   "outputs": [
    {
     "name": "stdout",
     "output_type": "stream",
     "text": [
      "23364\n",
      "6636\n"
     ]
    }
   ],
   "source": [
    "print(len(data_default_back))\n",
    "print(len(data_default_notback))"
   ]
  },
  {
   "cell_type": "markdown",
   "metadata": {},
   "source": [
    "2. В выборочных данных не должно быть совпадающих значений (все числа — разные) или таких совпадений должно быть очень мало (до 10)."
   ]
  },
  {
   "cell_type": "code",
   "execution_count": 13,
   "metadata": {},
   "outputs": [
    {
     "name": "stdout",
     "output_type": "stream",
     "text": [
      "80\n",
      "65\n"
     ]
    }
   ],
   "source": [
    "print(len(data_default_back_pd.unique()))\n",
    "print(len(data_default_notback_pd.unique()))"
   ]
  },
  {
   "cell_type": "markdown",
   "metadata": {},
   "source": [
    "Условия для применения критерия Манна-Уитни не выполняются. Для независимых выборок существует ещё один класс критериев, а именно перестановочные. Однако, они требуют тех же самых условий, что и ранговые. Поэтому будем использовать критерий Манна-Уитни:"
   ]
  },
  {
   "cell_type": "code",
   "execution_count": 14,
   "metadata": {},
   "outputs": [
    {
     "data": {
      "text/plain": [
       "MannwhitneyuResult(statistic=59257217.5, pvalue=6.127742909111652e-190)"
      ]
     },
     "execution_count": 14,
     "metadata": {},
     "output_type": "execute_result"
    }
   ],
   "source": [
    "sc.stats.mannwhitneyu(data_default_back, data_default_notback)"
   ]
  },
  {
   "cell_type": "markdown",
   "metadata": {},
   "source": [
    "### Вывод:\n",
    "\n",
    "P-value < 0.05, следовательно, гипотезу о равенстве распределений следует отвергнуть. И принять гипотезу H1"
   ]
  },
  {
   "cell_type": "markdown",
   "metadata": {},
   "source": [
    "## 4. Задание 2\n",
    "### Описание\n",
    "\n",
    "Пол (SEX): Проверьте гипотезу о том, что гендерный состав группы людей вернувших и не вернувших кредит отличается. Хорошо, если вы предоставите несколько различных решений этой задачи (с помощью доверительного интервала и подходящего статистического критерия)"
   ]
  },
  {
   "cell_type": "code",
   "execution_count": 15,
   "metadata": {},
   "outputs": [],
   "source": [
    "# в виде pd\n",
    "\n",
    "data_woman_pd = raw[raw['SEX']  == 1].default # женщины и вовзратность кредита\n",
    "data_man_pd = raw[raw['SEX']  == 2].default # мужчины и вовзратность кредита"
   ]
  },
  {
   "cell_type": "code",
   "execution_count": 16,
   "metadata": {},
   "outputs": [
    {
     "data": {
      "image/png": "[encoded data removed]",
      "text/plain": [
       "<Figure size 1440x432 with 2 Axes>"
      ]
     },
     "metadata": {
      "needs_background": "light"
     },
     "output_type": "display_data"
    }
   ],
   "source": [
    "pylab.figure(figsize=(20,6))\n",
    "\n",
    "pylab.subplot(1,2,1)\n",
    "pylab.grid()\n",
    "pylab.hist(data_woman_pd, color = 'r',density = True)\n",
    "pylab.xlabel('Женщины и возврат кредита: 1 - не вернули кредит, 0 -вернули')\n",
    "pylab.ylabel('Доля женщин, десятки процентов')\n",
    "\n",
    "pylab.subplot(1,2,2)\n",
    "pylab.grid()\n",
    "pylab.hist(data_man_pd, color = 'b', density = True)\n",
    "pylab.xlabel('Мужчины и возврат кредита: 1 - не вернули кредит, 0 -вернули')\n",
    "pylab.ylabel('Доля мужчин, десятки процентов')\n",
    "\n",
    "pylab.show()"
   ]
  },
  {
   "cell_type": "markdown",
   "metadata": {},
   "source": [
    "По графику можно заметить, что женщины возвращают кредит немного чаще."
   ]
  },
  {
   "cell_type": "markdown",
   "metadata": {},
   "source": [
    "Проверим гипотезу о том, что гендерный состав группы людей вернувших и не вернувших кредит отличается (гипотеза однородности выборок). Для этого найдём интервальную оценку разности долей."
   ]
  },
  {
   "cell_type": "markdown",
   "metadata": {},
   "source": [
    "$H_0\\colon$ гендерный состав группы людей вернувших и не вернувших кредит одинаков\n",
    "\n",
    "$H_1\\colon$ гендерный состав группы людей вернувших и не вернувших кредит отличается "
   ]
  },
  {
   "cell_type": "markdown",
   "metadata": {},
   "source": [
    "Используем интервальную оценку для разности двух долей "
   ]
  },
  {
   "cell_type": "code",
   "execution_count": 17,
   "metadata": {},
   "outputs": [],
   "source": [
    "# генерируем датасеты - половой состав вернувших и не вернувших кредит \n",
    "\n",
    "data_default0_sex_pd = raw[raw['default']  == 0].SEX # половой состав вернувших кредит\n",
    "data_default1_sex_pd= raw[raw['default']  == 1].SEX # половой состав не вернувших кредит"
   ]
  },
  {
   "cell_type": "markdown",
   "metadata": {},
   "source": [
    "заменим данные с:\n",
    "\n",
    "    1 - мужчины\n",
    "    2 - женщины\n",
    "    \n",
    "на:\n",
    "        \n",
    "    1 - мужчины\n",
    "    0 - женщины        \n",
    "        "
   ]
  },
  {
   "cell_type": "code",
   "execution_count": 18,
   "metadata": {},
   "outputs": [],
   "source": [
    "data_default0_sex = data_default0_sex_pd.replace(to_replace=2, value=0) # половой состав вернувших кредит\n",
    "data_default1_sex = data_default1_sex_pd.replace(to_replace=2, value=0) # половой состав не вернувших кредит"
   ]
  },
  {
   "cell_type": "markdown",
   "metadata": {},
   "source": [
    "Поскольку у нас есть биноминальное распределение величин, то можно воспользоваться доверительным интервалом Уилсона"
   ]
  },
  {
   "cell_type": "code",
   "execution_count": 19,
   "metadata": {},
   "outputs": [],
   "source": [
    "conf_data_default0_sex = proportion_confint(sum(data_default0_sex), \n",
    "                                            len(data_default0_sex),\n",
    "                                            method = 'wilson')\n",
    "\n",
    "conf_data_default1_sex = proportion_confint(sum(data_default1_sex), \n",
    "                                            len(data_default1_sex),\n",
    "                                            method = 'wilson')"
   ]
  },
  {
   "cell_type": "code",
   "execution_count": 20,
   "metadata": {},
   "outputs": [
    {
     "name": "stdout",
     "output_type": "stream",
     "text": [
      "interval for вернувших кредит мужчин a [0.379627, 0.392110]\n",
      "interval for не вернувших кредит мужчин b [0.421062, 0.444898]\n"
     ]
    }
   ],
   "source": [
    "print('interval for вернувших кредит мужчин a [%f, %f]' % conf_data_default0_sex)\n",
    "print('interval for не вернувших кредит мужчин b [%f, %f]' % conf_data_default1_sex)"
   ]
  },
  {
   "cell_type": "markdown",
   "metadata": {},
   "source": [
    "### Вывод:\n",
    "\n",
    "Интервалы не пересекаются, но находятся близко друг к другу. Можно сделать вывод, что мужчины не возвращают кредит чаще, чем женщины"
   ]
  },
  {
   "cell_type": "code",
   "execution_count": 21,
   "metadata": {},
   "outputs": [],
   "source": [
    "# функция для расчета интервала для разности двух долей \n",
    "\n",
    "def proportions_confint_diff_ind(sample1, sample2, alpha = 0.05):    \n",
    "    z = sc.stats.norm.ppf(1 - alpha / 2.)   \n",
    "    p1 = float(sum(sample1)) / len(sample1)\n",
    "    p2 = float(sum(sample2)) / len(sample2)\n",
    "    \n",
    "    left_boundary = (p1 - p2) - z * np.sqrt(p1 * (1 - p1)/ len(sample1) + p2 * (1 - p2)/ len(sample2))\n",
    "    right_boundary = (p1 - p2) + z * np.sqrt(p1 * (1 - p1)/ len(sample1) + p2 * (1 - p2)/ len(sample2))\n",
    "    \n",
    "    return (left_boundary, right_boundary)"
   ]
  },
  {
   "cell_type": "code",
   "execution_count": 22,
   "metadata": {
    "scrolled": true
   },
   "outputs": [
    {
     "name": "stdout",
     "output_type": "stream",
     "text": [
      "interval for разности двух долей [0.033635, 0.060548]\n"
     ]
    }
   ],
   "source": [
    "print('interval for разности двух долей [%f, %f]' % proportions_confint_diff_ind(data_default1_sex, data_default0_sex))"
   ]
  },
  {
   "cell_type": "markdown",
   "metadata": {},
   "source": [
    "Теперь воспользумся биноминальным статистическим критерием "
   ]
  },
  {
   "cell_type": "markdown",
   "metadata": {},
   "source": [
    "Если нулевая гипотеза справедлива и гендерный состав не отличается, то можем предположить, что мы имеем дело с выборкой, состоящей из 0 и 1 (женщины и мужчины), то есть, из распределения Бернулли  𝐵𝑒𝑟(𝑝) . Нулевая гипотеза того, что нет разницы в гендерном различии при возврате кредита соответствует значению  𝑝=0.5.\n"
   ]
  },
  {
   "cell_type": "code",
   "execution_count": 23,
   "metadata": {},
   "outputs": [
    {
     "name": "stdout",
     "output_type": "stream",
     "text": [
      "Binom test для вернувших кредит: p=0.0000000000\n",
      "Binom test для не вернувших кредит: p=0.0000000000\n"
     ]
    }
   ],
   "source": [
    "print('Binom test для вернувших кредит: p=%.10f' % stats.binom_test(sum(data_default0_sex), len(data_default0_sex), 0.5, alternative = 'two-sided'))\n",
    "print('Binom test для не вернувших кредит: p=%.10f' % stats.binom_test(sum(data_default1_sex), len(data_default1_sex), 0.5, alternative = 'two-sided'))\n"
   ]
  },
  {
   "cell_type": "markdown",
   "metadata": {},
   "source": [
    "### Вывод:\n",
    "\n",
    "Значение p_value  в обоих случаях меньше 0.05, это говорит о том, что гендерный состав распределен не равномерно и гипотезу H0 можно отвергнуть"
   ]
  },
  {
   "cell_type": "markdown",
   "metadata": {},
   "source": [
    "### Общие Выводы:\n",
    "\n",
    "\n",
    "1. Нижняя граница доверительного интервала для разности долей немного больше нуля, на основании чего можно сделать вывод, что мужчины не возвращают кредит несколько чаще женщин. Также можно это заметить по гистограмме выше.\n",
    "2. Гипотеза Н0 овтергается.\n",
    "3. Возможная причина такой закономерности это то, что мужчины берут кредит чаще и чаще не возвращают."
   ]
  },
  {
   "cell_type": "markdown",
   "metadata": {},
   "source": [
    "## 5. Задание 3\n",
    "### Описание\n",
    "\n",
    "Образование (EDUCATION): \n",
    "Проверьте гипотезу о том, что образование не влияет на то, вернет ли человек долг. Предложите способ наглядного представления разницы в ожидаемых и наблюдаемых значениях количества человек вернувших и не вернувших долг. \n",
    "Например, составьте таблицу сопряженности \"образование\" на \"возврат долга\", где значением ячейки была бы разность между наблюдаемым и ожидаемым количеством человек. \n",
    "\n",
    "Как бы вы предложили модифицировать таблицу так, чтобы привести значения ячеек к одному масштабу не потеряв в интерпретируемости ? \n",
    "Наличие какого образования является наилучшим индикатором того, что человек отдаст долг ? наоборт, не отдаст долг ?"
   ]
  },
  {
   "cell_type": "markdown",
   "metadata": {},
   "source": [
    "$H_0\\colon$ образование не влияет на то, вернет ли человек долг\n",
    "\n",
    "$H_1\\colon$ образование  влияет на то, вернет ли человек долг"
   ]
  },
  {
   "cell_type": "markdown",
   "metadata": {},
   "source": [
    "### Значение признака\n",
    "\n",
    "EDUCATION: образование (0 = доктор, 1 = магистр; 2 = бакалавр; 3 = выпускник школы; 4 = начальное образование; 5= прочее; 6 = нет данных )."
   ]
  },
  {
   "cell_type": "code",
   "execution_count": 24,
   "metadata": {},
   "outputs": [],
   "source": [
    "#cсгенерируем датасеты по каждому значению EDUCATION: default = 0, default = 1 \n",
    "\n",
    "data_doctor_pd = raw[raw['EDUCATION']  == 0].default # доктора\n",
    "data_magistr_pd = raw[raw['EDUCATION']  == 1].default # магистры\n",
    "data_bachelour_pd = raw[raw['EDUCATION']  == 2].default # бакалавры\n",
    "data_school_pd = raw[raw['EDUCATION']  == 3].default # выпусники школы\n",
    "data_started_pd = raw[raw['EDUCATION']  == 4].default # начальное образование\n",
    "data_other_pd = raw[raw['EDUCATION']  == 5].default # прочее\n",
    "data_none_pd = raw[raw['EDUCATION']  == 6].default # нет данных\n"
   ]
  },
  {
   "cell_type": "code",
   "execution_count": 25,
   "metadata": {},
   "outputs": [
    {
     "data": {
      "text/plain": [
       "2    14030\n",
       "1    10585\n",
       "3     4917\n",
       "5      280\n",
       "4      123\n",
       "6       51\n",
       "0       14\n",
       "Name: EDUCATION, dtype: int64"
      ]
     },
     "execution_count": 25,
     "metadata": {},
     "output_type": "execute_result"
    }
   ],
   "source": [
    "raw.EDUCATION.value_counts()"
   ]
  },
  {
   "cell_type": "code",
   "execution_count": 26,
   "metadata": {},
   "outputs": [
    {
     "data": {
      "image/png": "[encoded data removed]",
      "text/plain": [
       "<Figure size 1440x720 with 7 Axes>"
      ]
     },
     "metadata": {
      "needs_background": "light"
     },
     "output_type": "display_data"
    }
   ],
   "source": [
    "# постмроение диаграмм\n",
    "\n",
    "pylab.figure(figsize=(20,10))\n",
    "\n",
    "pylab.subplot(3,3,1)\n",
    "pylab.grid()\n",
    "pylab.hist(data_doctor_pd, color = 'r')\n",
    "pylab.xlabel('Вовзврат кредита докторами')\n",
    "\n",
    "pylab.subplot(3,3,2)\n",
    "pylab.grid()\n",
    "pylab.hist(data_magistr_pd, color = 'r')\n",
    "pylab.xlabel('Вовзврат кредита магистрами')\n",
    "\n",
    "pylab.subplot(3,3,3)\n",
    "pylab.grid()\n",
    "pylab.hist(data_bachelour_pd, color = 'r')\n",
    "pylab.xlabel('Вовзврат кредита бакалаврами')\n",
    "\n",
    "pylab.subplot(3,3,4)\n",
    "pylab.grid()\n",
    "pylab.hist(data_school_pd, color = 'r')\n",
    "pylab.xlabel('Вовзврат кредита школьниками')\n",
    "\n",
    "pylab.subplot(3,3,5)\n",
    "pylab.grid()\n",
    "pylab.hist(data_started_pd, color = 'r')\n",
    "pylab.xlabel('Вовзврат кредита начальное образование')\n",
    "\n",
    "pylab.subplot(3,3,6)\n",
    "pylab.grid()\n",
    "pylab.hist(data_other_pd, color = 'r')\n",
    "pylab.xlabel('Вовзврат кредита другое')\n",
    "\n",
    "pylab.subplot(3,3,7)\n",
    "pylab.grid()\n",
    "pylab.hist(data_none_pd, color = 'r')\n",
    "pylab.xlabel('Вовзврат кредита без информации')\n",
    "\n",
    "pylab.show()\n"
   ]
  },
  {
   "cell_type": "markdown",
   "metadata": {},
   "source": [
    "### Выводы по гистограммам: \n",
    "\n",
    "1. Доктора всегда возвращают кредит\n",
    "2. Чаще всего не возвращают кредит - бакалавры,магистры и выпускники школ.\n"
   ]
  },
  {
   "cell_type": "markdown",
   "metadata": {},
   "source": [
    "В данном случае речь идёт о случайной величине, которая может принимать 2 значения:\n",
    "- 0 (кредит возвращён, \"неуспех\") и 1 (кредит не возвращён, \"успех\"). \n",
    "\n",
    "Можно предположить, что эта случайная величина описывается биномиальным распределением.\n",
    "\n",
    "Поэтому в качестве нулевой гипотезы примем предположение, что количество невозвратов кредита распределено по биномиальному распределению с вычисленным ниже значением параметра *p* (гипотеза согласия)."
   ]
  },
  {
   "cell_type": "code",
   "execution_count": 27,
   "metadata": {},
   "outputs": [
    {
     "data": {
      "text/plain": [
       "0.2212"
      ]
     },
     "execution_count": 27,
     "metadata": {},
     "output_type": "execute_result"
    }
   ],
   "source": [
    "# среднее значение не возврата кредита\n",
    "\n",
    "frequency = raw.default.mean()\n",
    "frequency"
   ]
  },
  {
   "cell_type": "code",
   "execution_count": 28,
   "metadata": {},
   "outputs": [
    {
     "name": "stdout",
     "output_type": "stream",
     "text": [
      "[0 1 2 3 4 5 6]\n"
     ]
    }
   ],
   "source": [
    "# индефиаторы образования по порядку\n",
    "\n",
    "edu_values = sort(raw['EDUCATION'].unique())\n",
    "print(edu_values)"
   ]
  },
  {
   "cell_type": "code",
   "execution_count": 29,
   "metadata": {},
   "outputs": [
    {
     "name": "stdout",
     "output_type": "stream",
     "text": [
      "[0, 2036, 3330, 1237, 7, 18, 8]\n",
      "[3.0968, 2341.402, 3103.436, 1087.6404, 27.2076, 61.936, 11.2812]\n"
     ]
    }
   ],
   "source": [
    "# считаем частоты для ХИ-критерия\n",
    "\n",
    "observed_frequences = []\n",
    "expected_frequences = []\n",
    "\n",
    "for i in edu_values:\n",
    "    selected_data = raw.loc[raw['EDUCATION'] == i]\n",
    "    positive = sum(selected_data['default']) # количество неозвратов\n",
    "    total = len(selected_data['default']) # общее количество \n",
    "    expected = total * frequency # ождиаемое количество  = срдняя частота * общее количество \n",
    "    \n",
    "    observed_frequences.append(positive)\n",
    "    expected_frequences.append(expected)\n",
    "\n",
    "print(observed_frequences)\n",
    "print(expected_frequences)"
   ]
  },
  {
   "cell_type": "code",
   "execution_count": 30,
   "metadata": {},
   "outputs": [
    {
     "data": {
      "text/plain": [
       "Power_divergenceResult(statistic=127.11305526913317, pvalue=9.75132616866625e-26)"
      ]
     },
     "execution_count": 30,
     "metadata": {},
     "output_type": "execute_result"
    }
   ],
   "source": [
    "sc.stats.chisquare(observed_frequences, expected_frequences, ddof = 1)"
   ]
  },
  {
   "cell_type": "markdown",
   "metadata": {},
   "source": [
    "### Вывод:\n",
    "\n",
    "Значение p_value близко к нулю, значит нулевую гипотезу о том, что распределение случайной величины распределено по биноминальному закону можно отвергнуть."
   ]
  },
  {
   "cell_type": "markdown",
   "metadata": {},
   "source": [
    "Построим таблицу сопряжённости, где значением ячейки будет разность между наблюдаемым и ожидаемым количеством человек. Так как вычислять будем разность частот, для default=0 и default=1 значения будут одинаковыми по модулю, поэтому оставим только значения для default=1."
   ]
  },
  {
   "cell_type": "code",
   "execution_count": 31,
   "metadata": {},
   "outputs": [
    {
     "data": {
      "text/plain": [
       "array([  -3.0968, -305.402 ,  226.564 ,  149.3596,  -20.2076,  -43.936 ,\n",
       "         -3.2812])"
      ]
     },
     "execution_count": 31,
     "metadata": {},
     "output_type": "execute_result"
    }
   ],
   "source": [
    "# разница между наблюдаемыми и ожидаемыми частотами\n",
    "\n",
    "default_1 = np.array(observed_frequences) - np.array(expected_frequences)\n",
    "default_1"
   ]
  },
  {
   "cell_type": "code",
   "execution_count": 32,
   "metadata": {},
   "outputs": [
    {
     "data": {
      "text/html": [
       "<div>\n",
       "<style scoped>\n",
       "    .dataframe tbody tr th:only-of-type {\n",
       "        vertical-align: middle;\n",
       "    }\n",
       "\n",
       "    .dataframe tbody tr th {\n",
       "        vertical-align: top;\n",
       "    }\n",
       "\n",
       "    .dataframe thead th {\n",
       "        text-align: right;\n",
       "    }\n",
       "</style>\n",
       "<table border=\"1\" class=\"dataframe\">\n",
       "  <thead>\n",
       "    <tr style=\"text-align: right;\">\n",
       "      <th></th>\n",
       "      <th>default_1</th>\n",
       "    </tr>\n",
       "  </thead>\n",
       "  <tbody>\n",
       "    <tr>\n",
       "      <td>доктор</td>\n",
       "      <td>-3.0968</td>\n",
       "    </tr>\n",
       "    <tr>\n",
       "      <td>магистр</td>\n",
       "      <td>-305.4020</td>\n",
       "    </tr>\n",
       "    <tr>\n",
       "      <td>бакалавр</td>\n",
       "      <td>226.5640</td>\n",
       "    </tr>\n",
       "    <tr>\n",
       "      <td>выпускник школы</td>\n",
       "      <td>149.3596</td>\n",
       "    </tr>\n",
       "    <tr>\n",
       "      <td>начальное образование</td>\n",
       "      <td>-20.2076</td>\n",
       "    </tr>\n",
       "    <tr>\n",
       "      <td>прочее</td>\n",
       "      <td>-43.9360</td>\n",
       "    </tr>\n",
       "    <tr>\n",
       "      <td>нет данных</td>\n",
       "      <td>-3.2812</td>\n",
       "    </tr>\n",
       "  </tbody>\n",
       "</table>\n",
       "</div>"
      ],
      "text/plain": [
       "                       default_1\n",
       "доктор                   -3.0968\n",
       "магистр                -305.4020\n",
       "бакалавр                226.5640\n",
       "выпускник школы         149.3596\n",
       "начальное образование   -20.2076\n",
       "прочее                  -43.9360\n",
       "нет данных               -3.2812"
      ]
     },
     "execution_count": 32,
     "metadata": {},
     "output_type": "execute_result"
    }
   ],
   "source": [
    "# таблица частоты возвращения долга \n",
    "\n",
    "df = pd.DataFrame(index=['доктор', 'магистр', 'бакалавр', 'выпускник школы', 'начальное образование', 'прочее', 'нет данных'], columns = ['default_1'])\n",
    "df['default_1'] = default_1\n",
    "df"
   ]
  },
  {
   "cell_type": "markdown",
   "metadata": {},
   "source": [
    "Для улучшения интерпретируемости данных вместо абсолютных значений разностей можно подставить доли от ожидаемой частоты:"
   ]
  },
  {
   "cell_type": "code",
   "execution_count": 33,
   "metadata": {},
   "outputs": [
    {
     "data": {
      "text/html": [
       "<div>\n",
       "<style scoped>\n",
       "    .dataframe tbody tr th:only-of-type {\n",
       "        vertical-align: middle;\n",
       "    }\n",
       "\n",
       "    .dataframe tbody tr th {\n",
       "        vertical-align: top;\n",
       "    }\n",
       "\n",
       "    .dataframe thead th {\n",
       "        text-align: right;\n",
       "    }\n",
       "</style>\n",
       "<table border=\"1\" class=\"dataframe\">\n",
       "  <thead>\n",
       "    <tr style=\"text-align: right;\">\n",
       "      <th></th>\n",
       "      <th>default_1</th>\n",
       "    </tr>\n",
       "  </thead>\n",
       "  <tbody>\n",
       "    <tr>\n",
       "      <td>доктор</td>\n",
       "      <td>-1.00</td>\n",
       "    </tr>\n",
       "    <tr>\n",
       "      <td>магистр</td>\n",
       "      <td>-0.13</td>\n",
       "    </tr>\n",
       "    <tr>\n",
       "      <td>бакалавр</td>\n",
       "      <td>0.07</td>\n",
       "    </tr>\n",
       "    <tr>\n",
       "      <td>выпускник школы</td>\n",
       "      <td>0.14</td>\n",
       "    </tr>\n",
       "    <tr>\n",
       "      <td>начальное образование</td>\n",
       "      <td>-0.74</td>\n",
       "    </tr>\n",
       "    <tr>\n",
       "      <td>прочее</td>\n",
       "      <td>-0.71</td>\n",
       "    </tr>\n",
       "    <tr>\n",
       "      <td>нет данных</td>\n",
       "      <td>-0.29</td>\n",
       "    </tr>\n",
       "  </tbody>\n",
       "</table>\n",
       "</div>"
      ],
      "text/plain": [
       "                       default_1\n",
       "доктор                     -1.00\n",
       "магистр                    -0.13\n",
       "бакалавр                    0.07\n",
       "выпускник школы             0.14\n",
       "начальное образование      -0.74\n",
       "прочее                     -0.71\n",
       "нет данных                 -0.29"
      ]
     },
     "execution_count": 33,
     "metadata": {},
     "output_type": "execute_result"
    }
   ],
   "source": [
    "df['default_1'] = [round(i[0]/i[1], 2) for i in zip(default_1, expected_frequences)]\n",
    "df"
   ]
  },
  {
   "cell_type": "markdown",
   "metadata": {},
   "source": [
    "### Общие выводы\n",
    "\n",
    "1. Существует взаимосвязь между образованием человека и вероятностью того, что он вернёт долг.\n",
    "2. Наличие образования доктора является наилучшим индикатором того, что человек отдаст долг. Наличие же образования выпускнка школы, наоборт, является наилучшим индикатором того, что долг не будет возвращён."
   ]
  },
  {
   "cell_type": "markdown",
   "metadata": {},
   "source": [
    "## 6. Задание 4\n",
    "### Описание\n",
    "\n",
    "Семейное положение (MARRIAGE): Проверьте, как связан семейный статус с индикатором дефолта: нужно предложить меру, по которой можно измерить возможную связь этих переменных и посчитать ее значение."
   ]
  },
  {
   "cell_type": "code",
   "execution_count": 34,
   "metadata": {},
   "outputs": [
    {
     "data": {
      "text/plain": [
       "array([1, 2, 3, 0], dtype=int64)"
      ]
     },
     "execution_count": 34,
     "metadata": {},
     "output_type": "execute_result"
    }
   ],
   "source": [
    "# значения индикатора\n",
    "\n",
    "raw.MARRIAGE.unique()"
   ]
  },
  {
   "cell_type": "markdown",
   "metadata": {},
   "source": [
    "MARRIAGE: (0 = отказываюсь отвечать; 1 = замужем/женат; 2 = холост; 3 = нет данных)."
   ]
  },
  {
   "cell_type": "code",
   "execution_count": 35,
   "metadata": {},
   "outputs": [],
   "source": [
    "# генерируем датасеты: семейное положение вернувших и не вернувших кредит \n",
    "\n",
    "data_noanswer = raw[raw['MARRIAGE']  == 0].default # отказываюсь отвечать\n",
    "data_brak = raw[raw['MARRIAGE']  == 1].default # брак\n",
    "data_holost= raw[raw['MARRIAGE']  == 2].default # холост\n",
    "data_noinfo = raw[raw['MARRIAGE']  == 3].default # нет данных"
   ]
  },
  {
   "cell_type": "code",
   "execution_count": 36,
   "metadata": {},
   "outputs": [
    {
     "data": {
      "text/plain": [
       "0.09259259259259259"
      ]
     },
     "execution_count": 36,
     "metadata": {},
     "output_type": "execute_result"
    }
   ],
   "source": [
    "sum(data_noanswer)/len(data_noanswer)"
   ]
  },
  {
   "cell_type": "code",
   "execution_count": 37,
   "metadata": {
    "scrolled": false
   },
   "outputs": [
    {
     "data": {
      "text/plain": [
       "Text(0.5, 0, 'Вовзврат кредита: нет данных')"
      ]
     },
     "execution_count": 37,
     "metadata": {},
     "output_type": "execute_result"
    },
    {
     "data": {
      "image/png": "[encoded data removed]",
      "text/plain": [
       "<Figure size 1440x720 with 4 Axes>"
      ]
     },
     "metadata": {
      "needs_background": "light"
     },
     "output_type": "display_data"
    }
   ],
   "source": [
    "pylab.figure(figsize=(20,10))\n",
    "\n",
    "pylab.subplot(2,2,1)\n",
    "pylab.grid()\n",
    "pylab.hist(data_noanswer, color = 'r')\n",
    "pylab.xlabel('Вовзврат кредита: отказываюсь отвечать')\n",
    "\n",
    "pylab.subplot(2,2,2)\n",
    "pylab.grid()\n",
    "pylab.hist(data_brak, color = 'r')\n",
    "pylab.xlabel('Вовзврат кредита: женат/замужем')\n",
    "\n",
    "pylab.subplot(2,2,3)\n",
    "pylab.grid()\n",
    "pylab.hist(data_holost, color = 'r')\n",
    "pylab.xlabel('Вовзврат кредита: холост')\n",
    "\n",
    "pylab.subplot(2,2,4)\n",
    "pylab.grid()\n",
    "pylab.hist(data_noinfo, color = 'r')\n",
    "pylab.xlabel('Вовзврат кредита: нет данных')"
   ]
  },
  {
   "cell_type": "code",
   "execution_count": 38,
   "metadata": {},
   "outputs": [
    {
     "name": "stdout",
     "output_type": "stream",
     "text": [
      "Доля невозврата кредита: отказываюсь отвечать 0.09259259259259259\n",
      "Доля невозврата кредита: замужем/женат 0.23471703638626545\n",
      "Доля невозврата кредита: холост 0.20928338762214985\n",
      "Доля невозврата кредита: нет данных 0.26006191950464397\n"
     ]
    }
   ],
   "source": [
    "print ('Доля невозврата кредита: отказываюсь отвечать', sum(data_noanswer)/len(data_noanswer))\n",
    "print ('Доля невозврата кредита: замужем/женат',sum(data_brak)/len(data_brak))\n",
    "print ('Доля невозврата кредита: холост', sum(data_holost)/len(data_holost))\n",
    "print ('Доля невозврата кредита: нет данных', sum(data_noinfo)/len(data_noinfo))"
   ]
  },
  {
   "cell_type": "markdown",
   "metadata": {},
   "source": [
    "### Вывод по гистограммам: \n",
    "\n",
    "Больше всего берут и не возвращают кредиты две группы: брак (доля невозврата 23%)  и холост (доля невозврата 21%)"
   ]
  },
  {
   "cell_type": "markdown",
   "metadata": {},
   "source": [
    "Теперь оценим взаимосвязь фактора MARRIAGE и default. \n",
    "\n",
    "MARRIAGE - категориальная переменная.\n",
    "\n",
    "Корреляция Пирсона - не подходит, поскольку этот коэфициент используется для непрерывныъх переменных. \n",
    "\n",
    "Корреляция Мэтьюса - не подходит, поскольку используется для бинарных величин, тут 4 категории (0,1,2,3)\n",
    "\n",
    "Используем коэфициент Крамера - для оценки взаимосвязи категориальных переменных и отклика.\n",
    "\n"
   ]
  },
  {
   "cell_type": "markdown",
   "metadata": {},
   "source": [
    "Построим таблицу сопряжённости:"
   ]
  },
  {
   "cell_type": "code",
   "execution_count": 39,
   "metadata": {},
   "outputs": [
    {
     "data": {
      "text/html": [
       "<div>\n",
       "<style scoped>\n",
       "    .dataframe tbody tr th:only-of-type {\n",
       "        vertical-align: middle;\n",
       "    }\n",
       "\n",
       "    .dataframe tbody tr th {\n",
       "        vertical-align: top;\n",
       "    }\n",
       "\n",
       "    .dataframe thead th {\n",
       "        text-align: right;\n",
       "    }\n",
       "</style>\n",
       "<table border=\"1\" class=\"dataframe\">\n",
       "  <thead>\n",
       "    <tr style=\"text-align: right;\">\n",
       "      <th>MARRIAGE</th>\n",
       "      <th>0</th>\n",
       "      <th>1</th>\n",
       "      <th>2</th>\n",
       "      <th>3</th>\n",
       "    </tr>\n",
       "    <tr>\n",
       "      <th>default</th>\n",
       "      <th></th>\n",
       "      <th></th>\n",
       "      <th></th>\n",
       "      <th></th>\n",
       "    </tr>\n",
       "  </thead>\n",
       "  <tbody>\n",
       "    <tr>\n",
       "      <td>0</td>\n",
       "      <td>49</td>\n",
       "      <td>10453</td>\n",
       "      <td>12623</td>\n",
       "      <td>239</td>\n",
       "    </tr>\n",
       "    <tr>\n",
       "      <td>1</td>\n",
       "      <td>5</td>\n",
       "      <td>3206</td>\n",
       "      <td>3341</td>\n",
       "      <td>84</td>\n",
       "    </tr>\n",
       "  </tbody>\n",
       "</table>\n",
       "</div>"
      ],
      "text/plain": [
       "MARRIAGE   0      1      2    3\n",
       "default                        \n",
       "0         49  10453  12623  239\n",
       "1          5   3206   3341   84"
      ]
     },
     "execution_count": 39,
     "metadata": {},
     "output_type": "execute_result"
    }
   ],
   "source": [
    "confusion_matrix = pd.crosstab(raw['default'],raw['MARRIAGE']) # пересечение default и Marriage\n",
    "confusion_matrix"
   ]
  },
  {
   "cell_type": "markdown",
   "metadata": {},
   "source": [
    "#### Коэфициент V - крамера"
   ]
  },
  {
   "cell_type": "markdown",
   "metadata": {},
   "source": [
    "Взял со Stackoverflow функцию для вычисления коэффициента V Крамера:\n",
    "\n",
    "https://stackoverflow.com/questions/20892799/using-pandas-calculate-cram%C3%A9rs-coefficient-matrix"
   ]
  },
  {
   "cell_type": "code",
   "execution_count": 40,
   "metadata": {},
   "outputs": [],
   "source": [
    "def cramers_corrected_stat(confusion_matrix):\n",
    "    \"\"\" calculate Cramers V statistic for categorial-categorial association.\n",
    "        uses correction from Bergsma and Wicher, \n",
    "        Journal of the Korean Statistical Society 42 (2013): 323-328\n",
    "    \"\"\"\n",
    "    chi2 = sc.stats.chi2_contingency(confusion_matrix)[0]\n",
    "    n = confusion_matrix.sum().sum()\n",
    "    phi2 = chi2/n\n",
    "    r,k = confusion_matrix.shape\n",
    "    phi2corr = max(0, phi2 - ((k-1)*(r-1))/(n-1))    \n",
    "    rcorr = r - ((r-1)**2)/(n-1)\n",
    "    kcorr = k - ((k-1)**2)/(n-1)\n",
    "    return np.sqrt(phi2corr / min( (kcorr-1), (rcorr-1)))"
   ]
  },
  {
   "cell_type": "code",
   "execution_count": 41,
   "metadata": {},
   "outputs": [
    {
     "data": {
      "text/plain": [
       "0.03299665874336609"
      ]
     },
     "execution_count": 41,
     "metadata": {},
     "output_type": "execute_result"
    }
   ],
   "source": [
    "cramers_corrected_stat(confusion_matrix)"
   ]
  },
  {
   "cell_type": "markdown",
   "metadata": {},
   "source": [
    "### Выводы:\n",
    "\n",
    "1. Семейное положение и признак невозврата долга положительно коррелированы: коэффициент V Крамера равен 0.032.\n",
    "2. Cудя по гистограмме, холостые люди немного чаще не возвращают кредит, чем женатые и замужние"
   ]
  },
  {
   "cell_type": "markdown",
   "metadata": {},
   "source": [
    "## 7. Задание 5\n",
    "### Описание\n",
    "\n",
    "Возраст (AGE): Относительно двух групп людей вернувших и не вернувших кредит проверьте следующие гипотезы: \n",
    "\n",
    "a) о равенстве медианных значений возрастов людей \n",
    "\n",
    "b) о равенстве распределений с помощью одного из подходящих непараметрических критериев проверки равенства средних. \n",
    "\n",
    "Значимы ли полученные результаты с практической точки зрения ?"
   ]
  },
  {
   "cell_type": "code",
   "execution_count": 42,
   "metadata": {},
   "outputs": [],
   "source": [
    "age_back = raw[raw['default']  == 0].AGE # возраст людей вернувших кредит\n",
    "age_notback = raw[raw['default']  == 1].AGE # возраст людей не вернувших кредит"
   ]
  },
  {
   "cell_type": "code",
   "execution_count": 43,
   "metadata": {},
   "outputs": [
    {
     "data": {
      "text/plain": [
       "56"
      ]
     },
     "execution_count": 43,
     "metadata": {},
     "output_type": "execute_result"
    }
   ],
   "source": [
    "len(age_back.unique())"
   ]
  },
  {
   "cell_type": "code",
   "execution_count": 44,
   "metadata": {},
   "outputs": [
    {
     "data": {
      "image/png": "[encoded data removed]",
      "text/plain": [
       "<Figure size 1440x432 with 2 Axes>"
      ]
     },
     "metadata": {
      "needs_background": "light"
     },
     "output_type": "display_data"
    }
   ],
   "source": [
    "pylab.figure(figsize=(20,6))\n",
    "\n",
    "pylab.subplot(1,2,1)\n",
    "pylab.grid()\n",
    "pylab.hist(age_back,bins=len(age_back.unique()))\n",
    "pylab.xlabel('Возраст людей вернувших кредит')\n",
    "\n",
    "pylab.subplot(1,2,2)\n",
    "pylab.grid()\n",
    "pylab.hist(age_notback,bins=len(age_notback.unique()))\n",
    "pylab.xlabel('Возраст людей не вернувших кредит')\n",
    "\n",
    "pylab.show()"
   ]
  },
  {
   "cell_type": "markdown",
   "metadata": {},
   "source": [
    "### Вывод по гистограммам\n",
    "\n",
    "Большего всего невозвратов кредита у людей до 30 лет. Дальше идет снижение данного показателя. \n",
    "Думаю, что это можно связать с тем, что до 30 лет самая беспокойная жизнь."
   ]
  },
  {
   "cell_type": "markdown",
   "metadata": {},
   "source": [
    "### Пункт А \n",
    "\n",
    "a) Проверяем гипотезу о равенстве медианных значений возрастов людей"
   ]
  },
  {
   "cell_type": "markdown",
   "metadata": {},
   "source": [
    "$H_0\\colon$ медиана значений возрастов людей для обеих групп одинакова\n",
    "\n",
    "$H_1\\colon$ медиана значений возрастов людей для обеих групп) не одинакова"
   ]
  },
  {
   "cell_type": "markdown",
   "metadata": {},
   "source": [
    "Используем бутстрэп, как в задании 1 "
   ]
  },
  {
   "cell_type": "code",
   "execution_count": 45,
   "metadata": {},
   "outputs": [],
   "source": [
    "# разбиваем данные в виде np для бутстрэпа\n",
    "\n",
    "\n",
    "data_default_back=raw[raw.default == 0].AGE.values\n",
    "data_default_notback=raw[raw.default == 1].AGE.values"
   ]
  },
  {
   "cell_type": "code",
   "execution_count": 46,
   "metadata": {},
   "outputs": [
    {
     "name": "stdout",
     "output_type": "stream",
     "text": [
      "95% confidence interval for the ILEC median repair time: [34. 34.]\n",
      "95% confidence interval for the CLEC median repair time: [34. 35.]\n"
     ]
    }
   ],
   "source": [
    "# считаем для медианы (статистика)\n",
    "\n",
    "np.random.seed(0)\n",
    "\n",
    "back_median_scores = list(map(np.median, get_bootstrap_samples(data_default_back, 1000)))\n",
    "notback_median_scores = list(map(np.median, get_bootstrap_samples(data_default_notback, 1000)))\n",
    "\n",
    "print(\"95% confidence interval for the ILEC median repair time:\",  stat_intervals(back_median_scores, 0.05))\n",
    "print(\"95% confidence interval for the CLEC median repair time:\",  stat_intervals(notback_median_scores, 0.05))"
   ]
  },
  {
   "cell_type": "code",
   "execution_count": 47,
   "metadata": {},
   "outputs": [
    {
     "name": "stdout",
     "output_type": "stream",
     "text": [
      "95% confidence interval for the difference between medians [0. 1.]\n"
     ]
    }
   ],
   "source": [
    "# интервал для разности медиан\n",
    "\n",
    "delta_median_scores = list(map(lambda x: x[1] - x[0], zip(back_median_scores, notback_median_scores)))\n",
    "\n",
    "print(\"95% confidence interval for the difference between medians\",  stat_intervals(delta_median_scores, 0.05))"
   ]
  },
  {
   "cell_type": "markdown",
   "metadata": {},
   "source": [
    "### Вывод\n",
    "\n",
    "Интервал включает 0, следовательно, гипотезу H0 нельзя отвергнуть."
   ]
  },
  {
   "cell_type": "markdown",
   "metadata": {},
   "source": [
    "### Пункт Б \n",
    "\n",
    "б) Проверяем гипотезу о равенстве распределений с помощью одного из подходящих непараметрических критериев проверки равенства средних."
   ]
  },
  {
   "cell_type": "markdown",
   "metadata": {},
   "source": [
    "$H_0\\colon$ распределение значений возрастов людей для обеих групп одинакова\n",
    "\n",
    "$H_1\\colon$ распределение значений возрастов людей для обеих групп) не одинакова"
   ]
  },
  {
   "cell_type": "markdown",
   "metadata": {},
   "source": [
    "Как и в первой задачи используем Критерий Манна-Уинтни. Условия для этого критерия:\n",
    "* в каждой из выборок должно быть не менее 3 значений признака\n",
    "* в выборочных данных не должно быть совпадающих значений (все числа — разные) или таких совпадений должно быть очень мало (до 10)"
   ]
  },
  {
   "cell_type": "code",
   "execution_count": 48,
   "metadata": {},
   "outputs": [
    {
     "data": {
      "text/plain": [
       "MannwhitneyuResult(statistic=76966879.5, pvalue=0.1862517717449308)"
      ]
     },
     "execution_count": 48,
     "metadata": {},
     "output_type": "execute_result"
    }
   ],
   "source": [
    "sc.stats.mannwhitneyu(data_default_back, data_default_notback)"
   ]
  },
  {
   "cell_type": "markdown",
   "metadata": {},
   "source": [
    "### Вывод: \n",
    "\n",
    "Гипотезу о равенстве распределений также не следует отвергать: p-value > 0.05."
   ]
  },
  {
   "cell_type": "markdown",
   "metadata": {},
   "source": [
    "### Общие выводы\n",
    "\n",
    "1. Нельзя отвергнуть гипотезу о равенстве медиан групп.\n",
    "\n",
    "2. Нельзя отвергнуть гипотезу о равенстве распределений групп.\n",
    "\n",
    "3. Большего всего невозвратов кредита у людей до 30 лет. Дальше идет снижение данного показателя. Думаю, что это можно связать с тем, что до 30 лет самая беспокойная жизнь.\n",
    "\n",
    "4. Говорить о практической значимости бессмысленно, поскольку гипотезу, которая не была отвергнута, нельзя считать также и доказанной. Однако, визуализация подсказывает, что некоторое влияние возвраста на вероятность невозврата кредита всё же существует."
   ]
  }
 ],
 "metadata": {
  "kernelspec": {
   "display_name": "Python 3",
   "language": "python",
   "name": "python3"
  },
  "language_info": {
   "codemirror_mode": {
    "name": "ipython",
    "version": 3
   },
   "file_extension": ".py",
   "mimetype": "text/x-python",
   "name": "python",
   "nbconvert_exporter": "python",
   "pygments_lexer": "ipython3",
   "version": "3.7.4"
  }
 },
 "nbformat": 4,
 "nbformat_minor": 2
}
